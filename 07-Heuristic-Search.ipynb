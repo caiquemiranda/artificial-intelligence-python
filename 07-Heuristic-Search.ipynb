{
 "cells": [
  {
   "cell_type": "code",
   "execution_count": null,
   "metadata": {},
   "outputs": [],
   "source": [
    "#pip install python-constraint"
   ]
  },
  {
   "cell_type": "code",
   "execution_count": null,
   "metadata": {},
   "outputs": [],
   "source": [
    "from constraint import *"
   ]
  },
  {
   "cell_type": "code",
   "execution_count": null,
   "metadata": {},
   "outputs": [],
   "source": [
    "problem = Problem()"
   ]
  },
  {
   "cell_type": "code",
   "execution_count": null,
   "metadata": {},
   "outputs": [],
   "source": [
    "problem.addVariable('a', range(10))\n",
    "problem.addVariable('b', range(10))"
   ]
  },
  {
   "cell_type": "code",
   "execution_count": null,
   "metadata": {},
   "outputs": [],
   "source": [
    "problem.addConstraint(lambda a, b: a * 2 == b)"
   ]
  },
  {
   "cell_type": "code",
   "execution_count": null,
   "metadata": {},
   "outputs": [],
   "source": [
    "solutions = problem.getSolutions()"
   ]
  },
  {
   "cell_type": "code",
   "execution_count": null,
   "metadata": {},
   "outputs": [],
   "source": [
    "print (solutions)"
   ]
  },
  {
   "cell_type": "code",
   "execution_count": null,
   "metadata": {},
   "outputs": [],
   "source": [
    "def magic_square(matrix_ms):\n",
    "    iSize = len(matrix_ms[0])\n",
    "    sum_list = []"
   ]
  },
  {
   "cell_type": "code",
   "execution_count": null,
   "metadata": {},
   "outputs": [],
   "source": [
    "for col in range(iSize):\n",
    "    sum_list.append(sum(row[col] for row in matrix_ms))\n",
    "    sum_list.extend([sum (lines) for lines in matrix_ms])\n",
    "    dlResult = 0\n",
    "    \n",
    "    for i in range(0,iSize):\n",
    "        dlResult +=matrix_ms[i][i]\n",
    "    \n",
    "    sum_list.append(dlResult)\n",
    "    drResult = 0\n",
    "    \n",
    "    for i in range(iSize-1,-1,-1):\n",
    "        drResult +=matrix_ms[i][i]\n",
    "    sum_list.append(drResult)\n",
    "    if len(set(sum_list))>1:\n",
    "        return False\n",
    "    \n",
    "    return True"
   ]
  },
  {
   "cell_type": "code",
   "execution_count": null,
   "metadata": {},
   "outputs": [],
   "source": [
    "print(magic_square([[1,2,3], [4,5,6], [7,8,9]]))"
   ]
  },
  {
   "cell_type": "code",
   "execution_count": null,
   "metadata": {},
   "outputs": [],
   "source": [
    "print(magic_square([[3,9,2], [3,5,7], [9,1,6]]))"
   ]
  },
  {
   "cell_type": "markdown",
   "metadata": {},
   "source": [
    "### End."
   ]
  }
 ],
 "metadata": {
  "language_info": {
   "name": "python"
  },
  "orig_nbformat": 4
 },
 "nbformat": 4,
 "nbformat_minor": 2
}
