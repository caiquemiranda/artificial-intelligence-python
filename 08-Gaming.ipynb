{
 "cells": [
  {
   "cell_type": "code",
   "execution_count": null,
   "metadata": {},
   "outputs": [],
   "source": [
    "from easyAI import TwoPlayersGame, id_solve, Human_Player, AI_Player\n",
    "from easyAI.AI import TT"
   ]
  },
  {
   "cell_type": "code",
   "execution_count": null,
   "metadata": {},
   "outputs": [],
   "source": [
    "class LastCoin_game(TwoPlayersGame):\n",
    "    def __init__(self, players):\n",
    "        self.players = players\n",
    "        self.nplayer = 1\n",
    "        self.num_coins = 15\n",
    "        self.max_coins = 4\n",
    "        \n",
    "    def possible_moves(self):\n",
    "        return [str(a) for a in range(1, self.max_coins + 1)]\n",
    "    \n",
    "    def make_move(self, move):\n",
    "        self.num_coins -= int(move)\n",
    "        \n",
    "    def win_game(self):\n",
    "        return self.num_coins <= 0\n",
    "    \n",
    "    def is_over(self):\n",
    "        return self.win()\n",
    "    \n",
    "    def score(self):\n",
    "        return 100 if self.win_game() else 0\n",
    "    \n",
    "    def show(self):\n",
    "        print(self.num_coins, 'coins left in the pile')\n",
    "\n",
    "if __name__ == \"__main__\":\n",
    "    tt = TT()"
   ]
  },
  {
   "cell_type": "code",
   "execution_count": null,
   "metadata": {},
   "outputs": [],
   "source": [
    "LastCoin_game.ttentry = lambda self: self.num_coins"
   ]
  },
  {
   "cell_type": "code",
   "execution_count": null,
   "metadata": {},
   "outputs": [],
   "source": [
    "r, d, m = id_solve(LastCoin_game,\n",
    "                   range(2, 20), \n",
    "                   win_score=100, \n",
    "                   tt=tt)\n",
    "print(r, d, m)"
   ]
  },
  {
   "cell_type": "code",
   "execution_count": null,
   "metadata": {},
   "outputs": [],
   "source": [
    "game = LastCoin_game([AI_Player(tt), Human_Player()])\n",
    "game.play()"
   ]
  },
  {
   "cell_type": "code",
   "execution_count": null,
   "metadata": {},
   "outputs": [],
   "source": [
    "from easyAI import TwoPlayersGame, AI_Player, Negamax\n",
    "from easyAI.Player import Human_Player"
   ]
  },
  {
   "cell_type": "code",
   "execution_count": null,
   "metadata": {},
   "outputs": [],
   "source": [
    "class TicTacToe_game(TwoPlayersGame):\n",
    "    def __init__(self, players):\n",
    "        self.players = players\n",
    "        self.nplayer = 1\n",
    "        self.board = [0] * 9\n",
    "        \n",
    "    def possible_moves(self):\n",
    "        return [x + 1 for x, y in enumerate(self.board) if y == 0]\n",
    "    \n",
    "    def make_move(self, move):\n",
    "        self.board[int(move) - 1] = self.nplayer\n",
    "        \n",
    "    def umake_move(self, move):\n",
    "        self.board[int(move) - 1] = 0\n",
    "        \n",
    "    def condition_for_lose(self):\n",
    "        possible_combinations = [[1,2,3], \n",
    "                                 [4,5,6], \n",
    "                                 [7,8,9],\n",
    "                                 [1,4,7], \n",
    "                                 [2,5,8], \n",
    "                                 [3,6,9], \n",
    "                                 [1,5,9], \n",
    "                                 [3,5,7]]\n",
    "        return any([all([(self.board[z-1] == self.nopponent)\n",
    "                        for z in combination]) for combination in possible_combinations])\n",
    "    \n",
    "    def is_over(self):\n",
    "        return (self.possible_moves() == []) or self.condition_for_lose()\n",
    "    \n",
    "    def show(self):\n",
    "        print('\\n'+'\\n'.join([' '.join([['.', 'O', 'X'][self.board[3*j + i]]\n",
    "                for i in range(3)]) for j in range(3)]))\n",
    "        \n",
    "    def scoring(self):\n",
    "        return -100 if self.condition_for_lose() else 0\n",
    "    \n",
    "if __name__ == \"__main__\":\n",
    "    algo = Negamax(7)\n",
    "    TicTacToe_game([Human_Player(), AI_Player(algo)]).play()"
   ]
  },
  {
   "cell_type": "markdown",
   "metadata": {},
   "source": [
    "### End."
   ]
  }
 ],
 "metadata": {
  "language_info": {
   "name": "python"
  },
  "orig_nbformat": 4
 },
 "nbformat": 4,
 "nbformat_minor": 2
}
