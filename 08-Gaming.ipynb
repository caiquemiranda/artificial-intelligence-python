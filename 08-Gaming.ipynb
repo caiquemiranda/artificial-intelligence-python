{
 "cells": [
  {
   "cell_type": "code",
   "execution_count": null,
   "metadata": {},
   "outputs": [],
   "source": [
    "from easyAI import TwoPlayersGame, id_solve, Human_Player, AI_Player\n",
    "from easyAI.AI import TT"
   ]
  },
  {
   "cell_type": "code",
   "execution_count": null,
   "metadata": {},
   "outputs": [],
   "source": [
    "class LastCoin_game(TwoPlayersGame):\n",
    "    def __init__(self, players):\n",
    "        self.players = players\n",
    "        self.nplayer = 1\n",
    "        self.num_coins = 15\n",
    "        self.max_coins = 4\n",
    "        \n",
    "    def possible_moves(self):\n",
    "        return [str(a) for a in range(1, self.max_coins + 1)]\n",
    "    \n",
    "    def make_move(self, move):\n",
    "        self.num_coins -= int(move)\n",
    "        \n",
    "    def win_game(self):\n",
    "        return self.num_coins <= 0\n",
    "    \n",
    "    def is_over(self):\n",
    "        return self.win()\n",
    "    \n",
    "    def score(self):\n",
    "        return 100 if self.win_game() else 0\n",
    "    \n",
    "    def show(self):\n",
    "        print(self.num_coins, 'coins left in the pile')\n",
    "\n",
    "if __name__ == \"__main__\":\n",
    "    tt = TT()"
   ]
  },
  {
   "cell_type": "code",
   "execution_count": null,
   "metadata": {},
   "outputs": [],
   "source": [
    "LastCoin_game.ttentry = lambda self: self.num_coins"
   ]
  },
  {
   "cell_type": "code",
   "execution_count": null,
   "metadata": {},
   "outputs": [],
   "source": [
    "r, d, m = id_solve(LastCoin_game,\n",
    "                   range(2, 20), \n",
    "                   win_score=100, \n",
    "                   tt=tt)\n",
    "print(r, d, m)"
   ]
  },
  {
   "cell_type": "code",
   "execution_count": null,
   "metadata": {},
   "outputs": [],
   "source": [
    "game = LastCoin_game([AI_Player(tt), Human_Player()])\n",
    "game.play()"
   ]
  },
  {
   "cell_type": "code",
   "execution_count": null,
   "metadata": {},
   "outputs": [],
   "source": [
    "from easyAI import TwoPlayersGame, AI_Player, Negamax\n",
    "from easyAI.Player import Human_Player"
   ]
  },
  {
   "cell_type": "code",
   "execution_count": null,
   "metadata": {},
   "outputs": [],
   "source": [
    "class TicTacToe_game(TwoPlayersGame):\n",
    "    def __init__(self, players):\n",
    "        self.players = players\n",
    "        self.nplayer = 1\n",
    "        self.board = [0] * 9\n",
    "        \n",
    "    def possible_moves(self):\n",
    "        return [x + 1 for x, y in enumerate(self.board) if y == 0]\n",
    "    \n",
    "    def make_move(self, move):\n",
    "        self.board[int(move) - 1] = self.nplayer\n",
    "        \n",
    "    def umake_move(self, move):\n",
    "        self.board[int(move) - 1] = 0\n",
    "        \n",
    "    def condition_for_lose(self):\n",
    "        possible_combinations = [[1,2,3], \n",
    "                                 [4,5,6], \n",
    "                                 [7,8,9],\n",
    "                                 [1,4,7], \n",
    "                                 [2,5,8], \n",
    "                                 [3,6,9], \n",
    "                                 [1,5,9], \n",
    "                                 [3,5,7]]\n",
    "        return any([all([(self.board[z-1] == self.nopponent)\n",
    "                        for z in combination]) for combination in possible_combinations])\n",
    "    \n",
    "    def is_over(self):\n",
    "        return (self.possible_moves() == []) or self.condition_for_lose()\n",
    "    \n",
    "    def show(self):\n",
    "        print('\\n'+'\\n'.join([' '.join([['.', 'O', 'X'][self.board[3*j + i]]\n",
    "                for i in range(3)]) for j in range(3)]))\n",
    "        \n",
    "    def scoring(self):\n",
    "        return -100 if self.condition_for_lose() else 0\n",
    "    \n",
    "if __name__ == \"__main__\":\n",
    "    algo = Negamax(7)\n",
    "    TicTacToe_game([Human_Player(), AI_Player(algo)]).play()"
   ]
  },
  {
   "cell_type": "code",
   "execution_count": 1,
   "metadata": {},
   "outputs": [
    {
     "name": "stdout",
     "output_type": "stream",
     "text": [
      "Author: Caique Miranda\n",
      "\n",
      "Github username: caiquemiranda\n",
      "\n",
      "sys: 3.10.5 (tags/v3.10.5:f377153, Jun  6 2022, 16:14:13) [MSC v.1929 64 bit (AMD64)]\n",
      "\n"
     ]
    }
   ],
   "source": [
    "%reload_ext watermark\n",
    "%watermark -a \"Caique Miranda\" -gu \"caiquemiranda\" -iv"
   ]
  },
  {
   "cell_type": "markdown",
   "metadata": {},
   "source": [
    "### End."
   ]
  }
 ],
 "metadata": {
  "kernelspec": {
   "display_name": "Python 3",
   "language": "python",
   "name": "python3"
  },
  "language_info": {
   "codemirror_mode": {
    "name": "ipython",
    "version": 3
   },
   "file_extension": ".py",
   "mimetype": "text/x-python",
   "name": "python",
   "nbconvert_exporter": "python",
   "pygments_lexer": "ipython3",
   "version": "3.10.5"
  },
  "orig_nbformat": 4,
  "vscode": {
   "interpreter": {
    "hash": "74af3d2f25f1e46ebd2903d59225d79e4675ec224d56c01fc30cd168c2010d53"
   }
  }
 },
 "nbformat": 4,
 "nbformat_minor": 2
}
